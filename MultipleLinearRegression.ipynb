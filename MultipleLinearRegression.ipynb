{
  "nbformat": 4,
  "nbformat_minor": 0,
  "metadata": {
    "colab": {
      "provenance": [],
      "authorship_tag": "ABX9TyM0vxlg592Mp+UMrIQQ/76d",
      "include_colab_link": true
    },
    "kernelspec": {
      "name": "python3",
      "display_name": "Python 3"
    },
    "language_info": {
      "name": "python"
    }
  },
  "cells": [
    {
      "cell_type": "markdown",
      "metadata": {
        "id": "view-in-github",
        "colab_type": "text"
      },
      "source": [
        "<a href=\"https://colab.research.google.com/github/vivekchavan14/ML/blob/main/MultipleLinearRegression.ipynb\" target=\"_parent\"><img src=\"https://colab.research.google.com/assets/colab-badge.svg\" alt=\"Open In Colab\"/></a>"
      ]
    },
    {
      "cell_type": "code",
      "execution_count": 3,
      "metadata": {
        "id": "33lHJ9JEoNI_"
      },
      "outputs": [],
      "source": [
        "import numpy as np\n",
        "import matplotlib.pyplot as plt\n",
        "import pandas as pd"
      ]
    },
    {
      "cell_type": "code",
      "source": [
        "data = pd.read_csv('/content/multiple_linear_regression_dataset.csv')"
      ],
      "metadata": {
        "id": "9SSdtPRpogDa"
      },
      "execution_count": 4,
      "outputs": []
    },
    {
      "cell_type": "code",
      "source": [
        "X = data['age']\n",
        "y = data['income']\n"
      ],
      "metadata": {
        "id": "IrjVtyBXoYzN"
      },
      "execution_count": 6,
      "outputs": []
    },
    {
      "cell_type": "code",
      "source": [
        "X_mean = np.mean(X, axis=0)\n",
        "X_std = np.std(X, axis=0)\n",
        "y_mean = np.mean(y)\n",
        "y_std = np.std(y)"
      ],
      "metadata": {
        "id": "dHSV3ldvob75"
      },
      "execution_count": 7,
      "outputs": []
    },
    {
      "cell_type": "code",
      "source": [
        "X = (X - X_mean) / X_std\n",
        "y = (y - y_mean) / y_std"
      ],
      "metadata": {
        "id": "qPE39p80o2Sh"
      },
      "execution_count": 8,
      "outputs": []
    },
    {
      "cell_type": "code",
      "source": [
        "num_features = 1\n",
        "theta = np.zeros(num_features + 1)"
      ],
      "metadata": {
        "id": "TPB4g_Xdo4xp"
      },
      "execution_count": 9,
      "outputs": []
    },
    {
      "cell_type": "code",
      "source": [
        "learning_rate = 0.01\n",
        "num_iterations = 1000\n"
      ],
      "metadata": {
        "id": "9t7crRxKo777"
      },
      "execution_count": 10,
      "outputs": []
    },
    {
      "cell_type": "code",
      "source": [
        "m = len(X)\n"
      ],
      "metadata": {
        "id": "bpNK5Cq4o-og"
      },
      "execution_count": 11,
      "outputs": []
    },
    {
      "cell_type": "code",
      "source": [
        "X_with_intercept = np.column_stack((np.ones(m), X))"
      ],
      "metadata": {
        "id": "6aITXTk-pBUC"
      },
      "execution_count": 12,
      "outputs": []
    },
    {
      "cell_type": "code",
      "source": [
        "# Gradient Descent\n",
        "for iteration in range(num_iterations):\n",
        "    # Calculate predictions with the current parameters\n",
        "    y_pred = np.dot(X_with_intercept, theta)\n",
        "\n",
        "    # Calculate the gradient vector\n",
        "    gradient = (1/m) * np.dot(X_with_intercept.T, y_pred - y)\n",
        "\n",
        "    # Update parameters using gradients and learning rate\n",
        "    theta -= learning_rate * gradient"
      ],
      "metadata": {
        "id": "yT0_jjL0pECa"
      },
      "execution_count": 13,
      "outputs": []
    },
    {
      "cell_type": "code",
      "source": [
        "y_pred_final = np.dot(X_with_intercept, theta)\n",
        "mse = np.mean((y_pred_final - y) ** 2)"
      ],
      "metadata": {
        "id": "UUlX7BCCpH6v"
      },
      "execution_count": 14,
      "outputs": []
    },
    {
      "cell_type": "code",
      "source": [
        "print(\"Optimized Theta (coefficients and intercept):\")\n",
        "print(theta)\n",
        "print(f\"Mean Squared Error (MSE): {mse}\")"
      ],
      "metadata": {
        "colab": {
          "base_uri": "https://localhost:8080/"
        },
        "id": "t80HqBOZpNKg",
        "outputId": "77e65993-983e-4499-ecd9-60c5e1e039dd"
      },
      "execution_count": 15,
      "outputs": [
        {
          "output_type": "stream",
          "name": "stdout",
          "text": [
            "Optimized Theta (coefficients and intercept):\n",
            "[-6.98330282e-17  5.32181360e-01]\n",
            "Mean Squared Error (MSE): 0.716758544884217\n"
          ]
        }
      ]
    },
    {
      "cell_type": "code",
      "source": [],
      "metadata": {
        "id": "gBWrNw3jpQrM"
      },
      "execution_count": null,
      "outputs": []
    }
  ]
}